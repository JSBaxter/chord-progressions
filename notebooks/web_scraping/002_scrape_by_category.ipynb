{
 "cells": [
  {
   "cell_type": "code",
   "execution_count": null,
   "id": "c7777caf-597f-489c-a0ab-ef8f2844c58b",
   "metadata": {},
   "outputs": [],
   "source": [
    "import sys\n",
    "sys.path.append(\"../../\")"
   ]
  },
  {
   "cell_type": "code",
   "execution_count": null,
   "id": "90c88c49-e71a-44c5-ae15-7f52cdded564",
   "metadata": {},
   "outputs": [],
   "source": [
    "import sys\n",
    "sys.path.append(\"../../\")\n",
    "import requests, bs4, re, json, time\n",
    "from dataclasses import dataclass\n",
    "from typing import List"
   ]
  },
  {
   "cell_type": "code",
   "execution_count": null,
   "id": "409aceaf-3b12-4bf1-a591-0d3dcf6013eb",
   "metadata": {},
   "outputs": [],
   "source": [
    "import sys\n",
    "sys.path.append(\"../../\")\n",
    "import requests, bs4, re, json, time\n",
    "from dataclasses import dataclass\n",
    "from typing import List\n",
    "with open('/Users/U200061/Documents/projects/chord-progressions/notebooks/web_scraping/filter_settings.json', 'r') as f:\n",
    "    data = json.load(f)"
   ]
  },
  {
   "cell_type": "code",
   "execution_count": null,
   "id": "e50d15d0-61c4-4715-8c4c-04f533bb8b49",
   "metadata": {},
   "outputs": [],
   "source": [
    "filters = filter_settings['store']['page']['data']['filters']"
   ]
  },
  {
   "cell_type": "code",
   "execution_count": null,
   "id": "047b3dc6-54a6-40ee-8e6e-142aef532275",
   "metadata": {},
   "outputs": [],
   "source": [
    "[i['name'] for i in filters]"
   ]
  },
  {
   "cell_type": "code",
   "execution_count": null,
   "id": "55dbb726",
   "metadata": {},
   "outputs": [],
   "source": [
    "filter_settings"
   ]
  },
  {
   "cell_type": "code",
   "execution_count": null,
   "id": "aa7d1e88-8638-4bb4-a7e3-53fec6148a8c",
   "metadata": {},
   "outputs": [],
   "source": [
    "'Type',\n",
    "'Difficulty',\n",
    "'Tuning',\n",
    "'Decade',\n",
    "'Genre',\n",
    "'Style',"
   ]
  },
  {
   "cell_type": "code",
   "execution_count": null,
   "id": "2cc6510e-9324-4932-85a2-3f07cd475bc6",
   "metadata": {
    "jupyter": {
     "outputs_hidden": true
    }
   },
   "outputs": [],
   "source": [
    "filters = filter_settings['store']['page']['data']['filters']\n",
    "[{i['name']:[j['name'] for j in i['values']]} for i in filters]"
   ]
  },
  {
   "cell_type": "code",
   "execution_count": null,
   "id": "5534379c-5b3b-45cc-94eb-ebf93d3bf91e",
   "metadata": {},
   "outputs": [],
   "source": [
    "@dataclass\n",
    "class UGFilterValue:\n",
    "    name: str\n",
    "    url_name: str\n",
    "\n",
    "@dataclass\n",
    "class UGFilter:\n",
    "    name: str\n",
    "    param_name: str\n",
    "    values: List[UGFilterValue]"
   ]
  },
  {
   "cell_type": "code",
   "execution_count": null,
   "id": "68b6b538-31d3-488f-9ddf-e54bbe2a8405",
   "metadata": {},
   "outputs": [],
   "source": [
    "type_filter = filters[0]"
   ]
  },
  {
   "cell_type": "code",
   "execution_count": null,
   "id": "26640cac-2e79-486a-8fb8-b290f2c32b05",
   "metadata": {},
   "outputs": [],
   "source": [
    "val = type_filter['values'][0]\n",
    "name, url_name = val['name'], val['url_name']"
   ]
  },
  {
   "cell_type": "code",
   "execution_count": null,
   "id": "858fac7f-1fad-49d5-bd94-86b8e6579277",
   "metadata": {},
   "outputs": [],
   "source": [
    "type_filter_value = UGFilterValue(name, url_name)"
   ]
  },
  {
   "cell_type": "code",
   "execution_count": null,
   "id": "65203242-dd38-46ed-8e36-c00565db67b0",
   "metadata": {},
   "outputs": [],
   "source": [
    "def filter_string(filter: UGFilter) -> str:\n",
    "    strings = []\n",
    "    for val in filter.values:\n",
    "        param_name, value_name = filter['param_name'], val['url_name']\n",
    "        strings.append(f'{param_name}[]={value_name}')\n",
    "    return '&'.join(strings)\n"
   ]
  },
  {
   "cell_type": "code",
   "execution_count": null,
   "id": "a6ea6f6e-368b-4ce8-bc40-4f0a718c9b54",
   "metadata": {},
   "outputs": [],
   "source": [
    "def get_url_filters(filters: List[UGFilter]) -> str:\n",
    "    strings = []\n",
    "    for f in filters:\n",
    "        strings.append(filter_string(f))\n",
    "    url = 'https://www.ultimate-guitar.com/explore?' + '&'.join(strings)\n",
    "    return url"
   ]
  },
  {
   "cell_type": "markdown",
   "id": "3fd574b1-11cc-4cb5-9a23-ae60c6265891",
   "metadata": {},
   "source": [
    "- While `filters['totalResults']` > 5000, keep filtering further\n",
    "- Filter in order by:\n",
    "    - 'Type' always chords\n",
    "    - 'Difficulty'\n",
    "    - 'Tuning'\n",
    "    - 'Decade'\n",
    "    - 'Genre'\n",
    "    - 'Style'\n",
    "- "
   ]
  },
  {
   "cell_type": "code",
   "execution_count": null,
   "id": "d29da637-1f22-4902-8df3-f29987bdeaf7",
   "metadata": {},
   "outputs": [],
   "source": [
    "UGFilter(**filters[0])"
   ]
  },
  {
   "cell_type": "code",
   "execution_count": null,
   "id": "28f5885d-61b6-4853-8237-7b01407ef021",
   "metadata": {},
   "outputs": [],
   "source": [
    "filters = filter_settings['store']['page']['data']"
   ]
  },
  {
   "cell_type": "code",
   "execution_count": null,
   "id": "56f64978-28d8-455c-a35b-faec9aa12f49",
   "metadata": {},
   "outputs": [],
   "source": [
    "filters['totalResults']"
   ]
  },
  {
   "cell_type": "code",
   "execution_count": null,
   "id": "60216e95-9376-4ad8-a7da-e2a60e2b0cd1",
   "metadata": {},
   "outputs": [],
   "source": []
  }
 ],
 "metadata": {
  "kernelspec": {
   "display_name": "Python 3 (ipykernel)",
   "language": "python",
   "name": "python3"
  },
  "language_info": {
   "codemirror_mode": {
    "name": "ipython",
    "version": 3
   },
   "file_extension": ".py",
   "mimetype": "text/x-python",
   "name": "python",
   "nbconvert_exporter": "python",
   "pygments_lexer": "ipython3",
   "version": "3.8.17"
  }
 },
 "nbformat": 4,
 "nbformat_minor": 5
}
