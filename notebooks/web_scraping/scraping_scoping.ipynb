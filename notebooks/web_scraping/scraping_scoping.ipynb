{
 "cells": [
  {
   "cell_type": "code",
   "execution_count": null,
   "id": "3d4b0044-24c3-4b58-a671-da26c3983ecd",
   "metadata": {},
   "outputs": [],
   "source": [
    "import sys\n",
    "sys.path.append(\"../../\")"
   ]
  },
  {
   "cell_type": "code",
   "execution_count": null,
   "id": "f0bfaa6f-ac7b-49eb-8f38-4b7ecf8f2154",
   "metadata": {},
   "outputs": [],
   "source": [
    "import requests\n",
    "import bs4\n",
    "import re"
   ]
  },
  {
   "cell_type": "code",
   "execution_count": null,
   "id": "2ee366f9-e0f5-47c9-94a2-92bdd64485b5",
   "metadata": {},
   "outputs": [],
   "source": [
    "rsp = requests.get(\"https://www.ultimate-guitar.com/explore?page=1&type[]=Chords\")"
   ]
  },
  {
   "cell_type": "code",
   "execution_count": null,
   "id": "ef3b2bb7-8538-4164-86ea-cd9c838052b4",
   "metadata": {
    "jupyter": {
     "outputs_hidden": true
    }
   },
   "outputs": [],
   "source": [
    "bs4.BeautifulSoup(rsp.text)"
   ]
  },
  {
   "cell_type": "code",
   "execution_count": null,
   "id": "1ccd51e0-c29f-48af-b5fd-788ed2c46708",
   "metadata": {},
   "outputs": [],
   "source": [
    "pattern = r'https://tabs\\.ultimate-guitar\\.com/tab/([^/]+)/([^/]+?)(?=&quot;)'\n",
    "\n",
    "matches = re.findall(pattern, rsp.text)\n",
    "\n",
    "urls = []\n",
    "\n",
    "for match in matches:\n",
    "    artist, song = match\n",
    "    full_url = f\"https://tabs.ultimate-guitar.com/tab/{artist}/{song}\"\n",
    "    urls.append({\n",
    "        'artist': artist,\n",
    "        'song': song,\n",
    "        'full_url': full_url\n",
    "    })\n",
    "\n",
    "urls[:5]"
   ]
  },
  {
   "cell_type": "code",
   "execution_count": null,
   "id": "8c87e93f-a273-4579-b7b6-1d57e4f8f201",
   "metadata": {},
   "outputs": [],
   "source": []
  }
 ],
 "metadata": {
  "kernelspec": {
   "display_name": "Python 3 (ipykernel)",
   "language": "python",
   "name": "python3"
  },
  "language_info": {
   "codemirror_mode": {
    "name": "ipython",
    "version": 3
   },
   "file_extension": ".py",
   "mimetype": "text/x-python",
   "name": "python",
   "nbconvert_exporter": "python",
   "pygments_lexer": "ipython3",
   "version": "3.8.17"
  }
 },
 "nbformat": 4,
 "nbformat_minor": 5
}
