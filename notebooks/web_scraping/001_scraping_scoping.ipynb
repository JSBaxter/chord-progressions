{
 "cells": [
  {
   "cell_type": "code",
   "execution_count": null,
   "id": "3d4b0044-24c3-4b58-a671-da26c3983ecd",
   "metadata": {},
   "outputs": [],
   "source": [
    "import sys\n",
    "sys.path.append(\"../../\")"
   ]
  },
  {
   "cell_type": "code",
   "execution_count": null,
   "id": "f0bfaa6f-ac7b-49eb-8f38-4b7ecf8f2154",
   "metadata": {},
   "outputs": [],
   "source": [
    "import requests, bs4, re, json, time"
   ]
  },
  {
   "cell_type": "code",
   "execution_count": null,
   "id": "1ccd51e0-c29f-48af-b5fd-788ed2c46708",
   "metadata": {},
   "outputs": [],
   "source": [
    "def get_song_urls(page_number):\n",
    "    rsp = requests.get(f\"https://www.ultimate-guitar.com/explore?page={page_number}&type[]=Chords\")\n",
    "    bs4.BeautifulSoup(rsp.text)\n",
    "    \n",
    "    pattern = r'https://tabs\\.ultimate-guitar\\.com/tab/([^/]+)/([^/]+?)(?=&quot;)'\n",
    "    matches = re.findall(pattern, rsp.text)\n",
    "    \n",
    "    urls = []\n",
    "    \n",
    "    for match in matches:\n",
    "        artist, song = match\n",
    "        full_url = f\"https://tabs.ultimate-guitar.com/tab/{artist}/{song}\"\n",
    "        urls.append({\n",
    "            'artist': artist,\n",
    "            'song': song,\n",
    "            'full_url': full_url\n",
    "        })\n",
    "    return urls"
   ]
  },
  {
   "cell_type": "code",
   "execution_count": null,
   "id": "3b46d0c0-c71f-4d1a-a154-3f68a1373a5e",
   "metadata": {},
   "outputs": [],
   "source": [
    "def extract_data_content(chords_url: str) -> str:\n",
    "    \"\"\"\n",
    "    Extract the value of the 'data-content' attribute from an element with class 'js-store'.\n",
    "\n",
    "    :param html_content: The HTML content as a string.\n",
    "    :return: Value of the 'data-content' attribute. Returns None if not found.\n",
    "    \"\"\"\n",
    "    rsp = requests.get(chords_url)\n",
    "    if rsp.status_code == 404:\n",
    "        return None\n",
    "    if rsp.status_code != 200:\n",
    "        time.sleep(60)\n",
    "        if rsp.status_code != 200:\n",
    "            raise Exception(f\"Status code {rsp.status_code} not OK\")\n",
    "    soup = bs4.BeautifulSoup(rsp.text, 'html.parser')\n",
    "    element = soup.find(class_='js-store')\n",
    "    \n",
    "    if element:\n",
    "        return json.loads(element.get('data-content'))\n",
    "    else:\n",
    "        return None"
   ]
  },
  {
   "cell_type": "code",
   "execution_count": null,
   "id": "e10c3554-c10a-4213-9038-307b39465fd8",
   "metadata": {},
   "outputs": [],
   "source": [
    "def get_chords_tab(content_dict):\n",
    "    chords_tab = content_dict['store']['page']['data']['tab_view']['wiki_tab']['content']\n",
    "    chords_tab = chords_tab.replace(' - ', ', ')\n",
    "    return chords_tab"
   ]
  },
  {
   "cell_type": "code",
   "execution_count": null,
   "id": "c28c37cb-80cf-4fdb-90e4-88f1a7a04e00",
   "metadata": {},
   "outputs": [],
   "source": [
    "def parse_tabline(tabline):\n",
    "    chords, lyrics = tabline.split('\\r\\n')\n",
    "    chords_spaces = [\n",
    "        j for i in chords.split(\"[ch]\") \n",
    "        for j in i.split('[/ch]') \n",
    "        if j\n",
    "    ]\n",
    "    return chords_spaces, lyrics\n",
    "\n",
    "def chords_tab_generator(chords_tab):\n",
    "    pattern = r'\\[tab\\](.*?)\\[/tab\\]'\n",
    "    for tabline in re.findall(pattern, chords_tab, re.DOTALL):\n",
    "        if '[ch]' not in tabline:\n",
    "            continue\n",
    "        chords, lyrics = parse_tabline(tabline)\n",
    "        yield chords, lyrics\n",
    "\n"
   ]
  },
  {
   "cell_type": "code",
   "execution_count": null,
   "id": "0753e21d-f44b-4d7a-b06a-ca755901e194",
   "metadata": {},
   "outputs": [],
   "source": [
    "def parse_chords_tab(chords_tab):\n",
    "    chord_lyr = [{'chord':'', 'lyrics': ''}]\n",
    "    for chd_line, lyr in chords_tab_generator(chords_tab):\n",
    "        for value in chd_line:\n",
    "            if ' ' in value:\n",
    "                ind = len(value)\n",
    "                space_ind = -lyr[::-1].find(' ', -ind)\n",
    "                chord_lyr[-1]['lyrics'] += lyr[:space_ind]\n",
    "                lyr = lyr[space_ind:]\n",
    "                chd_line = chd_line[1:]\n",
    "            else:\n",
    "                chord_lyr.append({'chord': value, 'lyrics': lyr[0]})\n",
    "                lyr = lyr[1:]\n",
    "        if ' ' not in chd_line[-1]:\n",
    "            chord_lyr[-1]['lyrics'] += lyr + '; '\n",
    "    return chord_lyr\n",
    "        \n",
    "        \n",
    "    "
   ]
  },
  {
   "cell_type": "code",
   "execution_count": null,
   "id": "c3c4ea5c-8b66-4888-9185-264e0317f199",
   "metadata": {},
   "outputs": [],
   "source": [
    "def get_metadata(content_dict):\n",
    "    return {\n",
    "        'versions': content_dict['store']['page']['data']['tab_view']['versions'],\n",
    "        'meta': content_dict['store']['page']['data']['tab_view']['meta'],\n",
    "        'tab': content_dict['store']['page']['data']['tab'],\n",
    "        'content': content_dict['store']['page']['data']['tab_view']['wiki_tab']['content'],\n",
    "    }\n",
    "\n",
    "def get_url_tab_data(song):\n",
    "    content_dict = extract_data_content(song['full_url'])\n",
    "    fields = {'id', 'song_id', 'song_name', 'artist_id', 'artist_name', \n",
    "     'votes', 'rating', 'tonality_name', 'tab_url', 'type'}\n",
    "    tab_meta = content_dict['store']['page']['data']['tab']\n",
    "    song_data = {key: value for key, value in tab_meta.items() if key in fields}\n",
    "    \n",
    "    fields = {'votes', 'rating', 'tab_url'}\n",
    "    vsns = content_dict['store']['page']['data']['tab_view']['versions']\n",
    "    song_data['versions'] = [{key: value for key, value in ver.items() if key in fields} for ver in vsns]\n",
    "    song_data['view_meta'] = content_dict['store']['page']['data']['tab_view']['meta']\n",
    "\n",
    "    song_data['content'] = content_dict['store']['page']['data']['tab_view']['wiki_tab']['content']\n",
    "    return song_data\n",
    "\n",
    "def get_page_tabs(song_list):\n",
    "    \"\"\"\n",
    "    Write dictionaries from a generator to a file as a JSON array.\n",
    "\n",
    "    :param generator: The generator yielding dictionaries.\n",
    "    :param filename: The file name to write to.\n",
    "    \"\"\"\n",
    "    songdata = []\n",
    "    for song in song_list:\n",
    "        try:\n",
    "            data = get_url_tab_data(song)\n",
    "            songdata.append(data)\n",
    "        except:\n",
    "            continue\n",
    "    return songdata\n",
    "        \n",
    "\n",
    "def scrape_page(pg_num):\n",
    "    song_list = get_song_urls(pg_num)\n",
    "    data = {\n",
    "        'data': get_page_tabs(song_list),\n",
    "        'page_url': f\"https://www.ultimate-guitar.com/explore?page={pg_num:05}&type[]=Chords\",\n",
    "        'song_list': song_list,\n",
    "        'pg_num': pg_num\n",
    "    }\n",
    "    with open(f'data/pg_{pg_num}.json', 'w') as f:\n",
    "        json.dump(data, f)\n",
    "\n",
    "    \n"
   ]
  },
  {
   "cell_type": "code",
   "execution_count": null,
   "id": "09ce5e70-48c3-43ca-a448-0567d088b66e",
   "metadata": {},
   "outputs": [],
   "source": [
    "for i in range(100, 200):\n",
    "    scrape_page(i)"
   ]
  },
  {
   "cell_type": "markdown",
   "id": "b0fc6253-5ce9-463c-b881-1e44737693b8",
   "metadata": {},
   "source": [
    "# Next Steps\n",
    "- Go A-Z on artists and filter to chords\n",
    "- Investigate choosing genres to select music\n",
    "    - Decade\n",
    "    - Genre\n",
    "    - Sub-genre / Style\n",
    "    - Difficulty\n",
    "    - Sort by popularity all time\n",
    "- Rewrite parser properly\n",
    "- Think about chord transition representations"
   ]
  },
  {
   "cell_type": "code",
   "execution_count": null,
   "id": "f01e8977-d7b3-4990-944b-7480ef554e28",
   "metadata": {},
   "outputs": [],
   "source": [
    "rsp = requests.get('https://www.ultimate-guitar.com/explore')"
   ]
  },
  {
   "cell_type": "code",
   "execution_count": null,
   "id": "1ebe5a4a-b48c-436f-8e82-f4a728e4c888",
   "metadata": {},
   "outputs": [],
   "source": [
    "soup = bs4.BeautifulSoup(rsp.text, 'html.parser')\n",
    "element = soup.find(class_='js-store')\n",
    "data = json.loads(element.get('data-content'))\n"
   ]
  },
  {
   "cell_type": "code",
   "execution_count": null,
   "id": "eaa791a4-79df-42dd-b854-d6cf57aa38be",
   "metadata": {},
   "outputs": [],
   "source": [
    "with open('filter_settings.json', 'w') as f:\n",
    "    json.dump(data, f)"
   ]
  }
 ],
 "metadata": {
  "kernelspec": {
   "display_name": "Python 3 (ipykernel)",
   "language": "python",
   "name": "python3"
  },
  "language_info": {
   "codemirror_mode": {
    "name": "ipython",
    "version": 3
   },
   "file_extension": ".py",
   "mimetype": "text/x-python",
   "name": "python",
   "nbconvert_exporter": "python",
   "pygments_lexer": "ipython3",
   "version": "3.8.17"
  }
 },
 "nbformat": 4,
 "nbformat_minor": 5
}
